{
 "cells": [
  {
   "cell_type": "code",
   "execution_count": null,
   "id": "4a1a688d-0eb2-4ebd-9b66-29e56cf8e34d",
   "metadata": {},
   "outputs": [],
   "source": [
    "print(\"Here's the story.\")"
   ]
  }
 ],
 "metadata": {
  "kernelspec": {
   "display_name": "Python 3.8 (F1)",
   "language": "python",
   "name": "f1"
  },
  "language_info": {
   "codemirror_mode": {
    "name": "ipython",
    "version": 3
   },
   "file_extension": ".py",
   "mimetype": "text/x-python",
   "name": "python",
   "nbconvert_exporter": "python",
   "pygments_lexer": "ipython3",
   "version": "3.8.11"
  }
 },
 "nbformat": 4,
 "nbformat_minor": 5
}
