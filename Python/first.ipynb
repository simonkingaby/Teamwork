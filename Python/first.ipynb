{
 "cells": [
  {
   "cell_type": "code",
   "execution_count": 7,
   "id": "4a1a688d-0eb2-4ebd-9b66-29e56cf8e34d",
   "metadata": {},
   "outputs": [
    {
     "name": "stdout",
     "output_type": "stream",
     "text": [
      "Here's the story.\n"
     ]
    }
   ],
   "source": [
    "print(\"Here's the story.\")"
   ]
  },
  {
   "cell_type": "code",
   "execution_count": 8,
   "id": "ccda84e6-38eb-4802-b8f2-7e263036d928",
   "metadata": {},
   "outputs": [
    {
     "name": "stdout",
     "output_type": "stream",
     "text": [
      "Heres the story.\n"
     ]
    }
   ],
   "source": [
    "print('Heres the story.')"
   ]
  },
  {
   "cell_type": "code",
   "execution_count": 9,
   "id": "1c91f2f1-18ae-4e41-b29d-b91933cffbec",
   "metadata": {},
   "outputs": [
    {
     "name": "stdout",
     "output_type": "stream",
     "text": [
      "hagrid said, \"You are a wizard Harry\"\n"
     ]
    }
   ],
   "source": [
    "print('hagrid said, \"You are a wizard Harry\"')"
   ]
  },
  {
   "cell_type": "code",
   "execution_count": null,
   "id": "83f2e131-dca9-4e9c-a023-e2e6ba0ac0cf",
   "metadata": {},
   "outputs": [],
   "source": []
  }
 ],
 "metadata": {
  "kernelspec": {
   "display_name": "Python 3.8 (F1)",
   "language": "python",
   "name": "f1"
  },
  "language_info": {
   "codemirror_mode": {
    "name": "ipython",
    "version": 3
   },
   "file_extension": ".py",
   "mimetype": "text/x-python",
   "name": "python",
   "nbconvert_exporter": "python",
   "pygments_lexer": "ipython3",
   "version": "3.8.11"
  }
 },
 "nbformat": 4,
 "nbformat_minor": 5
}
