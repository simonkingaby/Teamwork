{
 "cells": [
  {
   "cell_type": "code",
   "execution_count": 6,
   "id": "0dd9cfab-522d-4f65-8a84-8cb53db7fb75",
   "metadata": {},
   "outputs": [
    {
     "name": "stdin",
     "output_type": "stream",
     "text": [
      "Who was bringing up how many lovely girls? 12\n"
     ]
    }
   ],
   "source": [
    "answer = input(\"Who was bringing up how many lovely girls?\")"
   ]
  },
  {
   "cell_type": "code",
   "execution_count": 7,
   "id": "d70fe373-f337-4e6e-b14b-e5dbbe626400",
   "metadata": {},
   "outputs": [
    {
     "name": "stdout",
     "output_type": "stream",
     "text": [
      "Waa waa waa. You need to watch the Brady Bunch more.\n"
     ]
    }
   ],
   "source": [
    "waawaa = \"Waa waa waa. You need to watch the Brady Bunch more.\"\n",
    "if answer == \"3\":\n",
    "    answer = input(\"All of them had hair of gold. Like who?\")\n",
    "else:\n",
    "    print(waawaa)"
   ]
  },
  {
   "cell_type": "code",
   "execution_count": 3,
   "id": "ab1a6635-b3a0-42af-b18d-ca29bc2ccd61",
   "metadata": {},
   "outputs": [
    {
     "name": "stdout",
     "output_type": "stream",
     "text": [
      "The youngest one in curls\n"
     ]
    }
   ],
   "source": [
    "if answer == \"their mother\" or answer == \"mother\":\n",
    "    print(\"The youngest one in curls\")\n",
    "else:\n",
    "    print(waawaa)"
   ]
  },
  {
   "cell_type": "code",
   "execution_count": null,
   "id": "babafb4d-fc23-44bb-9903-5d2e10dc31fe",
   "metadata": {},
   "outputs": [],
   "source": []
  }
 ],
 "metadata": {
  "kernelspec": {
   "display_name": "Python 3.8 (F1)",
   "language": "python",
   "name": "f1"
  },
  "language_info": {
   "codemirror_mode": {
    "name": "ipython",
    "version": 3
   },
   "file_extension": ".py",
   "mimetype": "text/x-python",
   "name": "python",
   "nbconvert_exporter": "python",
   "pygments_lexer": "ipython3",
   "version": "3.8.11"
  }
 },
 "nbformat": 4,
 "nbformat_minor": 5
}
